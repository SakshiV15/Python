{
  "nbformat": 4,
  "nbformat_minor": 0,
  "metadata": {
    "colab": {
      "provenance": []
    },
    "kernelspec": {
      "name": "python3",
      "display_name": "Python 3"
    },
    "language_info": {
      "name": "python"
    }
  },
  "cells": [
    {
      "cell_type": "markdown",
      "source": [
        "SAKSHI VISHWAKARMA, 57"
      ],
      "metadata": {
        "id": "anf9ZLhVaEa5"
      }
    },
    {
      "cell_type": "markdown",
      "source": [],
      "metadata": {
        "id": "Ua_n6EMtZ6ph"
      }
    },
    {
      "cell_type": "code",
      "execution_count": null,
      "metadata": {
        "id": "3ZLsokaFI7u_"
      },
      "outputs": [],
      "source": [
        "import sqlite3"
      ]
    },
    {
      "cell_type": "code",
      "source": [
        "connection = sqlite3.connect ('./genericDatabase.db')\n",
        "cursor = connection.cursor ()"
      ],
      "metadata": {
        "id": "RMCIHLVYJA8d"
      },
      "execution_count": null,
      "outputs": []
    },
    {
      "cell_type": "code",
      "source": [
        "cursor.execute('''\n",
        "    CREATE TABLE IF NOT EXISTS students (\n",
        "        id INTEGER PRIMARY KEY AUTOINCREMENT,\n",
        "        name TEXT NOT NULL,\n",
        "        age INTEGER NOT NULL\n",
        "    )\n",
        "''')\n",
        "\n",
        "connection.commit()"
      ],
      "metadata": {
        "id": "Ql1X1bFxJGvs",
        "colab": {
          "base_uri": "https://localhost:8080/",
          "height": 211
        },
        "collapsed": true,
        "outputId": "65ad7bd5-f0ff-409e-c0d6-f1aad9697cf5"
      },
      "execution_count": 2,
      "outputs": [
        {
          "output_type": "error",
          "ename": "NameError",
          "evalue": "name 'cursor' is not defined",
          "traceback": [
            "\u001b[0;31m---------------------------------------------------------------------------\u001b[0m",
            "\u001b[0;31mNameError\u001b[0m                                 Traceback (most recent call last)",
            "\u001b[0;32m<ipython-input-2-0ca4210b1cbe>\u001b[0m in \u001b[0;36m<cell line: 0>\u001b[0;34m()\u001b[0m\n\u001b[0;32m----> 1\u001b[0;31m cursor.execute('''\n\u001b[0m\u001b[1;32m      2\u001b[0m     CREATE TABLE IF NOT EXISTS students (\n\u001b[1;32m      3\u001b[0m         \u001b[0mid\u001b[0m \u001b[0mINTEGER\u001b[0m \u001b[0mPRIMARY\u001b[0m \u001b[0mKEY\u001b[0m \u001b[0mAUTOINCREMENT\u001b[0m\u001b[0;34m,\u001b[0m\u001b[0;34m\u001b[0m\u001b[0;34m\u001b[0m\u001b[0m\n\u001b[1;32m      4\u001b[0m         \u001b[0mname\u001b[0m \u001b[0mTEXT\u001b[0m \u001b[0mNOT\u001b[0m \u001b[0mNULL\u001b[0m\u001b[0;34m,\u001b[0m\u001b[0;34m\u001b[0m\u001b[0;34m\u001b[0m\u001b[0m\n\u001b[1;32m      5\u001b[0m         \u001b[0mage\u001b[0m \u001b[0mINTEGER\u001b[0m \u001b[0mNOT\u001b[0m \u001b[0mNULL\u001b[0m\u001b[0;34m\u001b[0m\u001b[0;34m\u001b[0m\u001b[0m\n",
            "\u001b[0;31mNameError\u001b[0m: name 'cursor' is not defined"
          ]
        }
      ]
    },
    {
      "cell_type": "code",
      "source": [
        "def create_student(name, age):\n",
        "    cursor.execute('''\n",
        "        INSERT INTO students (name, age)\n",
        "        VALUES (?, ?)\n",
        "    ''', (name, age))\n",
        "    connection.commit()\n",
        "    print(\"Record added successfully!\")\n",
        "\n",
        "create_student(\"Griffith\", 20)\n",
        "create_student(\"Guts\", 22)"
      ],
      "metadata": {
        "id": "VVw0M3MtJIcc"
      },
      "execution_count": null,
      "outputs": []
    },
    {
      "cell_type": "code",
      "source": [
        "def read_students():\n",
        "    cursor.execute('SELECT * FROM students')\n",
        "    rows = cursor.fetchall()\n",
        "    print(\"Student Records:\")\n",
        "    for row in rows:\n",
        "        print(row)\n",
        "\n",
        "read_students()"
      ],
      "metadata": {
        "id": "8Kqs5MS4JKnU"
      },
      "execution_count": null,
      "outputs": []
    },
    {
      "cell_type": "markdown",
      "source": [
        "UPDATE"
      ],
      "metadata": {
        "id": "CzPOor8FKvWr"
      }
    },
    {
      "cell_type": "code",
      "source": [
        "def update_student_age(student_id, new_age):\n",
        "    cursor.execute('''\n",
        "        UPDATE students\n",
        "        SET age = ?\n",
        "        WHERE id = ?\n",
        "\n",
        "\n",
        "    ''', (new_age, student_id))\n",
        "    connection.commit()\n",
        "    print(\"Student age updated successfully!\")\n",
        "\n",
        "update_student_age(1, 21)  # Updating Alice's age to 21\n",
        "read_students()"
      ],
      "metadata": {
        "colab": {
          "base_uri": "https://localhost:8080/"
        },
        "id": "OkWDZQ-2JNHs",
        "outputId": "d4b58b39-2bc4-48dd-9ff8-c35b94b84e53"
      },
      "execution_count": null,
      "outputs": [
        {
          "output_type": "stream",
          "name": "stdout",
          "text": [
            "Student age updated successfully!\n",
            "Student Records:\n",
            "(1, 'Griffith', 21)\n",
            "(2, 'Guts', 22)\n"
          ]
        }
      ]
    },
    {
      "cell_type": "markdown",
      "source": [
        "Delete"
      ],
      "metadata": {
        "id": "xOvEH-fkKw_7"
      }
    },
    {
      "cell_type": "code",
      "source": [
        "def delete_student(student_id):\n",
        "    cursor.execute('''\n",
        "        DELETE FROM students\n",
        "        WHERE id = ?\n",
        "\n",
        "\n",
        "    ''', (student_id,))\n",
        "    connection.commit()\n",
        "    print(\"Student deleted successfully!\")\n",
        "\n",
        "delete_student(2)  # Deleting Bob's record\n",
        "read_students()"
      ],
      "metadata": {
        "colab": {
          "base_uri": "https://localhost:8080/"
        },
        "id": "pLCT15AgJYds",
        "outputId": "835cd8af-167a-4224-ca6a-9735a2bcbf25"
      },
      "execution_count": null,
      "outputs": [
        {
          "output_type": "stream",
          "name": "stdout",
          "text": [
            "Student deleted successfully!\n",
            "Student Records:\n",
            "(1, 'Griffith', 21)\n"
          ]
        }
      ]
    }
  ]
}