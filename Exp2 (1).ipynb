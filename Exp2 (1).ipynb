{
  "nbformat": 4,
  "nbformat_minor": 0,
  "metadata": {
    "colab": {
      "provenance": []
    },
    "kernelspec": {
      "name": "python3",
      "display_name": "Python 3"
    },
    "language_info": {
      "name": "python"
    }
  },
  "cells": [
    {
      "cell_type": "code",
      "execution_count": 8,
      "metadata": {
        "colab": {
          "base_uri": "https://localhost:8080/"
        },
        "id": "kxRYr-3V6TVc",
        "outputId": "b9de1d35-0b45-4eff-ad66-9248e67e739d"
      },
      "outputs": [
        {
          "output_type": "stream",
          "name": "stdout",
          "text": [
            "True\n",
            "False\n",
            "True\n"
          ]
        }
      ],
      "source": [
        "class ConditionalStatements:\n",
        "    def checkString(self, s: str) -> bool:\n",
        "        found_b = False\n",
        "\n",
        "        for char in s:\n",
        "            if char == 'b':\n",
        "                found_b = True\n",
        "            elif char == 'a' and found_b:\n",
        "                return False\n",
        "\n",
        "        return True\n",
        "\n",
        "\n",
        "\n",
        "obj = ConditionalStatements()\n",
        "\n",
        "\n",
        "print(obj.checkString(\"aaabbb\"))\n",
        "print(obj.checkString(\"ababab\"))\n",
        "print(obj.checkString(\"bbb\"))\n"
      ]
    }
  ]
}