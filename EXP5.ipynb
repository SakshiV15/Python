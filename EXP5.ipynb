{
  "nbformat": 4,
  "nbformat_minor": 0,
  "metadata": {
    "colab": {
      "provenance": []
    },
    "kernelspec": {
      "name": "python3",
      "display_name": "Python 3"
    },
    "language_info": {
      "name": "python"
    }
  },
  "cells": [
    {
      "cell_type": "code",
      "execution_count": 3,
      "metadata": {
        "colab": {
          "base_uri": "https://localhost:8080/"
        },
        "id": "UZYeYbyfOC5K",
        "outputId": "c85f823d-1110-45bc-aeb5-13743a2092c4"
      },
      "outputs": [
        {
          "output_type": "stream",
          "name": "stdout",
          "text": [
            "3\n",
            "4\n",
            "3\n"
          ]
        }
      ],
      "source": [
        "class StackDepth:\n",
        "  def maximumDepth(self, stringInput : str) -> int:\n",
        "    stack = []\n",
        "    count = 0\n",
        "    count_list = []\n",
        "    for x in stringInput:\n",
        "      if x =='(' or x == ')':\n",
        "        stack.append(x)\n",
        "    for i in stack:\n",
        "      if i == '(':\n",
        "        count+=1\n",
        "      count_list.append(count)\n",
        "      if i == ')':\n",
        "        count-=1\n",
        "    return max(count_list)\n",
        "\n",
        "if __name__=='__main__':\n",
        "\n",
        "  eqinput = \"(1+(2*3)+((8)/4))+1\"\n",
        "  print(StackDepth().maximumDepth(eqinput))\n",
        "\n",
        "  exp = \"(1)+((2)+(((3)))\"\n",
        "  print(StackDepth().maximumDepth(exp))\n",
        "\n",
        "  val =  \"()(())((()())\"\n",
        "  print(StackDepth().maximumDepth(val))\n",
        "\n",
        "\n",
        ""
      ]
    },
    {
      "cell_type": "code",
      "source": [],
      "metadata": {
        "id": "HLNtO5FIOX6c"
      },
      "execution_count": null,
      "outputs": []
    }
  ]
}