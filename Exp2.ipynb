{
  "nbformat": 4,
  "nbformat_minor": 0,
  "metadata": {
    "colab": {
      "provenance": []
    },
    "kernelspec": {
      "name": "python3",
      "display_name": "Python 3"
    },
    "language_info": {
      "name": "python"
    }
  },
  "cells": [
    {
      "cell_type": "code",
      "execution_count": null,
      "metadata": {
        "colab": {
          "base_uri": "https://localhost:8080/"
        },
        "id": "FtHskBev8F7o",
        "outputId": "9b7909f6-e7d6-4b99-ebf7-7c624c7a5ebd"
      },
      "outputs": [
        {
          "output_type": "stream",
          "name": "stdout",
          "text": [
            "Enter Method is executed\n",
            "Middle part is executed\n",
            "gieeeeee\n",
            "<class 'Exception'>, , <traceback object at 0x7aa9cdcfd500>\n",
            "Exit method is executed\n"
          ]
        }
      ],
      "source": [
        "class File:\n",
        "    def __init__ (self, filename, method):\n",
        "        self.file = open (filename, method)\n",
        "\n",
        "    def __enter__ (self):\n",
        "        print ('Enter Method is executed')\n",
        "        return self.file\n",
        "\n",
        "    def __exit__ (self, type, value, traceback):\n",
        "        print (f'{type}, {value}, {traceback}')\n",
        "        print ('Exit method is executed')\n",
        "        self.file.close ()\n",
        "        # return True\n",
        "        if type == Exception:\n",
        "            return True\n",
        "\n",
        "if __name__ == '__main__':\n",
        "    with File ('./Text.txt', 'r') as f:\n",
        "        print ('Middle part is executed')\n",
        "        print(f.read())\n",
        "        raise Exception ()"
      ]
    },
    {
      "cell_type": "code",
      "source": [
        "class File:\n",
        "    def __init__ (self, filename, method):\n",
        "        self.file = open (filename, method)\n",
        "\n",
        "    def __enter__ (self):\n",
        "        print ('Enter Method is executed')\n",
        "        return self.file\n",
        "\n",
        "    def __exit__ (self, type, value, traceback):\n",
        "        print (f'{type}, {value}, {traceback}')\n",
        "        print ('Exit method is executed')\n",
        "        self.file.close ()\n",
        "        # return True\n",
        "        if type == Exception:\n",
        "            return True\n",
        "\n",
        "if __name__ == '__main__':\n",
        "    with File ('./Text.txt', 'a') as f:\n",
        "        print ('Middle part is executed')\n",
        "        f.write ('\\n Helloo')\n",
        "        raise Exception ()"
      ],
      "metadata": {
        "colab": {
          "base_uri": "https://localhost:8080/"
        },
        "id": "McnwtBRy85xJ",
        "outputId": "ac588b59-afc9-462d-bd61-e9a7a29579fe"
      },
      "execution_count": null,
      "outputs": [
        {
          "output_type": "stream",
          "name": "stdout",
          "text": [
            "Enter Method is executed\n",
            "Middle part is executed\n",
            "<class 'Exception'>, , <traceback object at 0x7aa9ce8ce180>\n",
            "Exit method is executed\n"
          ]
        }
      ]
    },
    {
      "cell_type": "code",
      "source": [
        "class File:\n",
        "    def __init__ (self, filename, method):\n",
        "        self.file = open (filename, method)\n",
        "\n",
        "    def __enter__ (self):\n",
        "        print ('Enter Method is executed')\n",
        "        return self.file\n",
        "\n",
        "    def __exit__ (self, type, value, traceback):\n",
        "        print (f'{type}, {value}, {traceback}')\n",
        "        print ('Exit method is executed')\n",
        "        self.file.close ()\n",
        "        # return True\n",
        "        if type == Exception:\n",
        "            return True\n",
        "\n",
        "if __name__ == '__main__':\n",
        "    with File ('./Text.txt', 'r') as f:\n",
        "        print ('Middle part is executed')\n",
        "        print(f.read())\n",
        "        raise Exception ()"
      ],
      "metadata": {
        "colab": {
          "base_uri": "https://localhost:8080/"
        },
        "id": "5bJ84imj--SB",
        "outputId": "d767077f-2537-4198-ae9f-f266886bf81c"
      },
      "execution_count": null,
      "outputs": [
        {
          "output_type": "stream",
          "name": "stdout",
          "text": [
            "Enter Method is executed\n",
            "Middle part is executed\n",
            "gieeeeeeSome generic contentSome generic content\n",
            " Helloo\n",
            "<class 'Exception'>, , <traceback object at 0x7aa9ce545c00>\n",
            "Exit method is executed\n"
          ]
        }
      ]
    },
    {
      "cell_type": "code",
      "source": [
        "class File:\n",
        "    def __init__ (self, filename, method):\n",
        "        self.file = open (filename, method)\n",
        "\n",
        "    def __enter__ (self):\n",
        "        print ('Enter Method is executed')\n",
        "        return self.file\n",
        "\n",
        "    def __exit__ (self, type, value, traceback):\n",
        "        print (f'{type}, {value}, {traceback}')\n",
        "        print ('Exit method is executed')\n",
        "        self.file.close ()\n",
        "        # return True\n",
        "        if type == Exception:\n",
        "            return True\n",
        "\n",
        "if __name__ == '__main__':\n",
        "    with File ('./Text.txt', 'w') as f:\n",
        "        print ('Middle part is executed')\n",
        "        f.write ('\\n Bye')\n",
        "        raise Exception ()"
      ],
      "metadata": {
        "colab": {
          "base_uri": "https://localhost:8080/"
        },
        "id": "ov2a3tbQDBxA",
        "outputId": "40daf40f-24b1-42ca-aecc-82d499653b6e"
      },
      "execution_count": null,
      "outputs": [
        {
          "output_type": "stream",
          "name": "stdout",
          "text": [
            "Enter Method is executed\n",
            "Middle part is executed\n",
            "<class 'Exception'>, , <traceback object at 0x7aa9cc096b40>\n",
            "Exit method is executed\n"
          ]
        }
      ]
    },
    {
      "cell_type": "code",
      "source": [
        "class File:\n",
        "    def __init__ (self, filename, method):\n",
        "        self.file = open (filename, method)\n",
        "\n",
        "    def __enter__ (self):\n",
        "        print ('Enter Method is executed')\n",
        "        return self.file\n",
        "\n",
        "    def __exit__ (self, type, value, traceback):\n",
        "        print (f'{type}, {value}, {traceback}')\n",
        "        print ('Exit method is executed')\n",
        "        self.file.close ()\n",
        "        # return True\n",
        "        if type == Exception:\n",
        "            return True\n",
        "\n",
        "if __name__ == '__main__':\n",
        "    with File ('./Text.txt', 'r') as f:\n",
        "        print ('Middle part is executed')\n",
        "        print(f.read())\n",
        "        raise Exception ()"
      ],
      "metadata": {
        "colab": {
          "base_uri": "https://localhost:8080/"
        },
        "id": "ngP_sC06DRMo",
        "outputId": "c13d728f-edb9-4e67-c2b0-4d07d1799f69"
      },
      "execution_count": null,
      "outputs": [
        {
          "output_type": "stream",
          "name": "stdout",
          "text": [
            "Enter Method is executed\n",
            "Middle part is executed\n",
            "\n",
            " Bye\n",
            "<class 'Exception'>, , <traceback object at 0x7aa9ce371940>\n",
            "Exit method is executed\n"
          ]
        }
      ]
    }
  ]
}